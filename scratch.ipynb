{
 "cells": [
  {
   "cell_type": "markdown",
   "metadata": {},
   "source": [
    "## Getting PBP"
   ]
  },
  {
   "cell_type": "code",
   "execution_count": null,
   "metadata": {},
   "outputs": [],
   "source": [
    "import pandas as pd\n",
    "import numpy as np\n",
    "import os\n",
    "from scipy.stats import percentileofscore as perc\n",
    "from simFootballPBP import *\n",
    "\n",
    "'''\n",
    "Functions\n",
    "'''\n",
    "\n",
    "def scoreDiff(row):\n",
    "    if row['recTeam'] == row['awayTeam']:\n",
    "        return row['homeScore'] - row['awayScore']\n",
    "    else:\n",
    "        return row['awayScore'] - row['homeScore']\n",
    "\n",
    "def secSinceHalf(row):\n",
    "    return 1800 - int(row['totTime'])\n",
    "\n",
    "def fieldPosScore(row):\n",
    "    if row['dist2goal'] >= 60:\n",
    "        return 1.0\n",
    "    elif row['dist2goal'] >= 50:\n",
    "        return 1.1 ** (40 - row['dist2goal'])\n",
    "    else:\n",
    "        return 1.1**10 * 1.2**(50 - row['dist2goal'])\n",
    "\n",
    "def distScore(row):\n",
    "    if int(row['distance']) >= 10:\n",
    "        return 0.2\n",
    "    elif 7 <= row['distance'] <= 9:\n",
    "        return 0.4\n",
    "    elif 4 <= row['distance'] <= 6:\n",
    "        return 0.6\n",
    "    elif 2 <= row['distance'] <= 3:\n",
    "        return 0.8\n",
    "    else:\n",
    "        return 1.0\n",
    "\n",
    "def scoreDiffMult(pointdiff):\n",
    "    if pointdiff > 0:\n",
    "        return 1\n",
    "    elif pointdiff == 0:\n",
    "        return 2\n",
    "    elif pointdiff < -8:\n",
    "        return 3\n",
    "    else:\n",
    "        return 4\n",
    "\n",
    "def timeMult(row):\n",
    "    sec = secSinceHalf(row)\n",
    "    PD = scoreDiff(row)\n",
    "    \n",
    "    if PD <= 0 and sec >= 0:\n",
    "        return ((sec * 0.001)**3) + 1.\n",
    "    else:\n",
    "        return 1.\n",
    "\n",
    "def surrenderIndex(row):\n",
    "    pd = scoreDiff(row)\n",
    "    return fieldPosScore(row) * distScore(row) * scoreDiffMult(pd) * timeMult(row)\n",
    "\n",
    "def receiving(row):\n",
    "    if row['teamPoss'] == row['homeTeam']:\n",
    "        return row['awayTeam']\n",
    "    else:\n",
    "        return row['homeTeam']\n",
    "    \n",
    "def touchback(row):\n",
    "    if 'Touchback' in row['play']:\n",
    "        return \"Touchback\"\n",
    "    elif 'No return' in row['play']:\n",
    "        return \"No return\"\n",
    "    else:\n",
    "        return \"Returned\"\n",
    "\n",
    "def puntDist(row):\n",
    "    if 'BLOCKED' in row.play:\n",
    "        return 0\n",
    "    elif 'Touchback' in row.play:\n",
    "        return row.dist2goal - 20\n",
    "    else:\n",
    "        return int(row.play.split('of ')[-1].split(' yards')[0])\n",
    "    \n",
    "def stringify(row):\n",
    "    num = ['st','nd','rd','th']\n",
    "    if row['awayTeam'] == row['teamPoss']:\n",
    "        puntScore = row['awayScore']\n",
    "        recScore = row['homeScore']\n",
    "    else:\n",
    "        puntScore = row['homeScore']\n",
    "        recScore = row['awayScore']\n",
    "    return \"Q%s - %s - %i%s and %i\\n%s %s - %s %s\\n\"%(row['Q'],row['time'],row['down'],num[int(row['down'])-1],row['distance'],row['teamPoss'],puntScore,row['recTeam'],recScore)\n"
   ]
  },
  {
   "cell_type": "code",
   "execution_count": null,
   "metadata": {},
   "outputs": [],
   "source": [
    "S = 25\n",
    "\n",
    "sData = []\n",
    "idList, idDict = getSeasonIDs(S)\n",
    "\n",
    "print('Season:',S)\n",
    "print('Games:',len(idList))"
   ]
  },
  {
   "cell_type": "code",
   "execution_count": 3,
   "metadata": {},
   "outputs": [
    {
     "name": "stdout",
     "output_type": "stream",
     "text": [
      "Gathering PBP...\n",
      "PBP for S25 saved!\n"
     ]
    }
   ],
   "source": [
    "print('Gathering PBP...')\n",
    "for i in idList:\n",
    "    sData.append(getGameData(S,i,idDict))\n",
    "\n",
    "sDF = pd.concat(sData)\n",
    "sDF.to_csv('PBP/S%sPBP.csv'%S)\n",
    "\n",
    "print('PBP for S%s saved!'%S)"
   ]
  },
  {
   "cell_type": "code",
   "execution_count": 5,
   "metadata": {},
   "outputs": [
    {
     "name": "stdout",
     "output_type": "stream",
     "text": [
      "Combining all Seasons...\n",
      "Getting Punts...\n",
      "Done!\n"
     ]
    }
   ],
   "source": [
    "print('Combining all Seasons...')\n",
    "import os\n",
    "allDF = pd.concat([pd.read_csv('PBP/%s'%p) for p in next(os.walk('PBP'))[2] if '.csv' in p])\n",
    "allDF = allDF.reset_index().sort_values('S')\n",
    "# allDF.to_csv('allPBP.csv')\n",
    "\n",
    "print('Getting Punts...')\n",
    "puntDF = allDF[allDF['play'].str.contains('Punt ')]\n",
    "\n",
    "print('Done!')"
   ]
  },
  {
   "cell_type": "code",
   "execution_count": 6,
   "metadata": {},
   "outputs": [
    {
     "name": "stdout",
     "output_type": "stream",
     "text": [
      "Cleaning up PuntDF...\n"
     ]
    },
    {
     "name": "stderr",
     "output_type": "stream",
     "text": [
      "/home/mike/anaconda3/lib/python3.7/site-packages/ipykernel_launcher.py:3: SettingWithCopyWarning: \n",
      "A value is trying to be set on a copy of a slice from a DataFrame.\n",
      "Try using .loc[row_indexer,col_indexer] = value instead\n",
      "\n",
      "See the caveats in the documentation: https://pandas.pydata.org/pandas-docs/stable/user_guide/indexing.html#returning-a-view-versus-a-copy\n",
      "  This is separate from the ipykernel package so we can avoid doing imports until\n",
      "/home/mike/anaconda3/lib/python3.7/site-packages/ipykernel_launcher.py:4: SettingWithCopyWarning: \n",
      "A value is trying to be set on a copy of a slice from a DataFrame.\n",
      "Try using .loc[row_indexer,col_indexer] = value instead\n",
      "\n",
      "See the caveats in the documentation: https://pandas.pydata.org/pandas-docs/stable/user_guide/indexing.html#returning-a-view-versus-a-copy\n",
      "  after removing the cwd from sys.path.\n"
     ]
    },
    {
     "name": "stdout",
     "output_type": "stream",
     "text": [
      "Exporting Surrender DF...\n",
      "Done!\n"
     ]
    }
   ],
   "source": [
    "print('Cleaning up PuntDF...')\n",
    "NFL = np.load(\"2009-2018_surrender_indices.npy\")\n",
    "puntDF['recTeam'] = puntDF.apply(lambda row : receiving(row),axis=1)\n",
    "puntDF['surrenderIndex'] = puntDF.apply(lambda row : surrenderIndex(row),axis=1)\n",
    "puntDF = puntDF[['S','W','gameID','Q','time','awayTeam','awayScore','homeScore','homeTeam'\n",
    "                 ,'teamPoss','recTeam','down','distance','side','dist2goal','surrenderIndex','play']]\n",
    "puntDF = puntDF.sort_values('surrenderIndex',ascending=False)\n",
    "puntDF['NFLpercentiles'] = puntDF.apply(lambda row : perc(NFL,row['surrenderIndex']),axis=1)\n",
    "puntDF['percentiles'] = puntDF.apply(lambda row : perc(puntDF['surrenderIndex'],row['surrenderIndex']),axis=1)\n",
    "puntDF['result'] = puntDF.apply(lambda row : touchback(row),axis = 1)\n",
    "puntDF['scoreDiff'] = puntDF.apply(lambda row : scoreDiff(row),axis = 1)\n",
    "puntDF['puntDist'] = puntDF.apply(lambda row : puntDist(row),axis = 1)\n",
    "puntDF['puntEndLoc'] = puntDF['dist2goal'] - puntDF['puntDist']\n",
    "puntDF['surrenderRank'] = puntDF.surrenderIndex.rank(method='max',ascending=False).astype('int')\n",
    "puntDF['situation'] = puntDF.apply(lambda row : stringify(row), axis = 1)\n",
    "\n",
    "puntDF = puntDF[['S', 'W', 'gameID', 'Q', 'time', 'awayTeam', 'awayScore', 'homeScore',\n",
    "       'homeTeam', 'teamPoss', 'recTeam', 'down', 'distance', 'dist2goal', 'puntDist',\n",
    "       'puntEndLoc', 'surrenderIndex','surrenderRank', 'percentiles', 'NFLpercentiles', 'play',\n",
    "       'situation','result']]\n",
    "\n",
    "print('Exporting Surrender DF...')\n",
    "puntDF.to_csv('surrender.csv')\n",
    "\n",
    "print('Done!')"
   ]
  },
  {
   "cell_type": "markdown",
   "metadata": {},
   "source": [
    "## Bot Functions"
   ]
  },
  {
   "cell_type": "code",
   "execution_count": 14,
   "metadata": {},
   "outputs": [],
   "source": [
    "s25 = pd.read_csv('PBP/S25PBP.csv')"
   ]
  },
  {
   "cell_type": "code",
   "execution_count": 30,
   "metadata": {},
   "outputs": [
    {
     "data": {
      "text/plain": [
       "0                                      D, Alex kicks off.\n",
       "1                        The kick sails into the endzone.\n",
       "2                PickSix, H. takes it out of the endzone!\n",
       "3       Kickoff of 77 yards. Returned by PickSix, H. f...\n",
       "4         Jack, M. SACKED by Rapid Eagle - DT for -7 yds.\n",
       "                              ...                        \n",
       "2928    Rush by Z, D. for 2 yds. Tackle by Annastesia,...\n",
       "2929    Rush by Skyline, A. for 4 yds. Tackle by De Vi...\n",
       "2930    Rush by Z, D. for a short gain. Tackle by Harr...\n",
       "2931        Punt by Kokot (R), B. of 39 yards. Touchback.\n",
       "2932    Pass by Fujiwara (C), C., complete to Howlett ...\n",
       "Name: play, Length: 2933, dtype: object"
      ]
     },
     "execution_count": 30,
     "metadata": {},
     "output_type": "execute_result"
    }
   ],
   "source": [
    "s25['play'].str.replace('Dasistwirklichseinnachname, A.','D, Alex')"
   ]
  },
  {
   "cell_type": "code",
   "execution_count": 17,
   "metadata": {},
   "outputs": [],
   "source": [
    "test = s25[(s25.S == 25) & (s25.W == 1) & ((s25.homeTeam == 'COL') | (s25.awayTeam == 'COL'))]"
   ]
  },
  {
   "cell_type": "code",
   "execution_count": 26,
   "metadata": {},
   "outputs": [
    {
     "name": "stdout",
     "output_type": "stream",
     "text": [
      "Punt by Small, J. of 67 yards.\n",
      "No return.\n"
     ]
    }
   ],
   "source": [
    "string = test.play.iloc[0].split('yards. ')\n",
    "print(str(string[0] + 'yards.\\n' + string[1]))"
   ]
  },
  {
   "cell_type": "code",
   "execution_count": 29,
   "metadata": {},
   "outputs": [
    {
     "ename": "KeyError",
     "evalue": "\"['situation', 'percentile', 'surrenderIndex', 'surrenderRank'] not in index\"",
     "output_type": "error",
     "traceback": [
      "\u001b[0;31m---------------------------------------------------------------------------\u001b[0m",
      "\u001b[0;31mKeyError\u001b[0m                                  Traceback (most recent call last)",
      "\u001b[0;32m<ipython-input-29-45bdb9a54df3>\u001b[0m in \u001b[0;36m<module>\u001b[0;34m\u001b[0m\n\u001b[1;32m      1\u001b[0m \u001b[0;32mimport\u001b[0m \u001b[0mtabulate\u001b[0m\u001b[0;34m\u001b[0m\u001b[0;34m\u001b[0m\u001b[0m\n\u001b[0;32m----> 2\u001b[0;31m tabulate(test[['surrenderRank','situation', 'play','surrenderIndex','percentile']],\n\u001b[0m\u001b[1;32m      3\u001b[0m          headers=[\"Rank\",\"Game Situation\",\"Punt\",\"Index\",\"Perc.\"],tablefmt='psql',showindex=False)\n",
      "\u001b[0;32m~/anaconda3/lib/python3.7/site-packages/pandas/core/frame.py\u001b[0m in \u001b[0;36m__getitem__\u001b[0;34m(self, key)\u001b[0m\n\u001b[1;32m   2804\u001b[0m             \u001b[0;32mif\u001b[0m \u001b[0mis_iterator\u001b[0m\u001b[0;34m(\u001b[0m\u001b[0mkey\u001b[0m\u001b[0;34m)\u001b[0m\u001b[0;34m:\u001b[0m\u001b[0;34m\u001b[0m\u001b[0;34m\u001b[0m\u001b[0m\n\u001b[1;32m   2805\u001b[0m                 \u001b[0mkey\u001b[0m \u001b[0;34m=\u001b[0m \u001b[0mlist\u001b[0m\u001b[0;34m(\u001b[0m\u001b[0mkey\u001b[0m\u001b[0;34m)\u001b[0m\u001b[0;34m\u001b[0m\u001b[0;34m\u001b[0m\u001b[0m\n\u001b[0;32m-> 2806\u001b[0;31m             \u001b[0mindexer\u001b[0m \u001b[0;34m=\u001b[0m \u001b[0mself\u001b[0m\u001b[0;34m.\u001b[0m\u001b[0mloc\u001b[0m\u001b[0;34m.\u001b[0m\u001b[0m_get_listlike_indexer\u001b[0m\u001b[0;34m(\u001b[0m\u001b[0mkey\u001b[0m\u001b[0;34m,\u001b[0m \u001b[0maxis\u001b[0m\u001b[0;34m=\u001b[0m\u001b[0;36m1\u001b[0m\u001b[0;34m,\u001b[0m \u001b[0mraise_missing\u001b[0m\u001b[0;34m=\u001b[0m\u001b[0;32mTrue\u001b[0m\u001b[0;34m)\u001b[0m\u001b[0;34m[\u001b[0m\u001b[0;36m1\u001b[0m\u001b[0;34m]\u001b[0m\u001b[0;34m\u001b[0m\u001b[0;34m\u001b[0m\u001b[0m\n\u001b[0m\u001b[1;32m   2807\u001b[0m \u001b[0;34m\u001b[0m\u001b[0m\n\u001b[1;32m   2808\u001b[0m         \u001b[0;31m# take() does not accept boolean indexers\u001b[0m\u001b[0;34m\u001b[0m\u001b[0;34m\u001b[0m\u001b[0;34m\u001b[0m\u001b[0m\n",
      "\u001b[0;32m~/anaconda3/lib/python3.7/site-packages/pandas/core/indexing.py\u001b[0m in \u001b[0;36m_get_listlike_indexer\u001b[0;34m(self, key, axis, raise_missing)\u001b[0m\n\u001b[1;32m   1551\u001b[0m \u001b[0;34m\u001b[0m\u001b[0m\n\u001b[1;32m   1552\u001b[0m         self._validate_read_indexer(\n\u001b[0;32m-> 1553\u001b[0;31m             \u001b[0mkeyarr\u001b[0m\u001b[0;34m,\u001b[0m \u001b[0mindexer\u001b[0m\u001b[0;34m,\u001b[0m \u001b[0mo\u001b[0m\u001b[0;34m.\u001b[0m\u001b[0m_get_axis_number\u001b[0m\u001b[0;34m(\u001b[0m\u001b[0maxis\u001b[0m\u001b[0;34m)\u001b[0m\u001b[0;34m,\u001b[0m \u001b[0mraise_missing\u001b[0m\u001b[0;34m=\u001b[0m\u001b[0mraise_missing\u001b[0m\u001b[0;34m\u001b[0m\u001b[0;34m\u001b[0m\u001b[0m\n\u001b[0m\u001b[1;32m   1554\u001b[0m         )\n\u001b[1;32m   1555\u001b[0m         \u001b[0;32mreturn\u001b[0m \u001b[0mkeyarr\u001b[0m\u001b[0;34m,\u001b[0m \u001b[0mindexer\u001b[0m\u001b[0;34m\u001b[0m\u001b[0;34m\u001b[0m\u001b[0m\n",
      "\u001b[0;32m~/anaconda3/lib/python3.7/site-packages/pandas/core/indexing.py\u001b[0m in \u001b[0;36m_validate_read_indexer\u001b[0;34m(self, key, indexer, axis, raise_missing)\u001b[0m\n\u001b[1;32m   1644\u001b[0m             \u001b[0;32mif\u001b[0m \u001b[0;32mnot\u001b[0m \u001b[0;34m(\u001b[0m\u001b[0mself\u001b[0m\u001b[0;34m.\u001b[0m\u001b[0mname\u001b[0m \u001b[0;34m==\u001b[0m \u001b[0;34m\"loc\"\u001b[0m \u001b[0;32mand\u001b[0m \u001b[0;32mnot\u001b[0m \u001b[0mraise_missing\u001b[0m\u001b[0;34m)\u001b[0m\u001b[0;34m:\u001b[0m\u001b[0;34m\u001b[0m\u001b[0;34m\u001b[0m\u001b[0m\n\u001b[1;32m   1645\u001b[0m                 \u001b[0mnot_found\u001b[0m \u001b[0;34m=\u001b[0m \u001b[0mlist\u001b[0m\u001b[0;34m(\u001b[0m\u001b[0mset\u001b[0m\u001b[0;34m(\u001b[0m\u001b[0mkey\u001b[0m\u001b[0;34m)\u001b[0m \u001b[0;34m-\u001b[0m \u001b[0mset\u001b[0m\u001b[0;34m(\u001b[0m\u001b[0max\u001b[0m\u001b[0;34m)\u001b[0m\u001b[0;34m)\u001b[0m\u001b[0;34m\u001b[0m\u001b[0;34m\u001b[0m\u001b[0m\n\u001b[0;32m-> 1646\u001b[0;31m                 \u001b[0;32mraise\u001b[0m \u001b[0mKeyError\u001b[0m\u001b[0;34m(\u001b[0m\u001b[0;34mf\"{not_found} not in index\"\u001b[0m\u001b[0;34m)\u001b[0m\u001b[0;34m\u001b[0m\u001b[0;34m\u001b[0m\u001b[0m\n\u001b[0m\u001b[1;32m   1647\u001b[0m \u001b[0;34m\u001b[0m\u001b[0m\n\u001b[1;32m   1648\u001b[0m             \u001b[0;31m# we skip the warning on Categorical/Interval\u001b[0m\u001b[0;34m\u001b[0m\u001b[0;34m\u001b[0m\u001b[0;34m\u001b[0m\u001b[0m\n",
      "\u001b[0;31mKeyError\u001b[0m: \"['situation', 'percentile', 'surrenderIndex', 'surrenderRank'] not in index\""
     ]
    }
   ],
   "source": [
    "import tabulate\n",
    "tabulate(test[['surrenderRank','situation', 'play','surrenderIndex','percentile']],\n",
    "         headers=[\"Rank\",\"Game Situation\",\"Punt\",\"Index\",\"Perc.\"],tablefmt='psql',showindex=False)"
   ]
  },
  {
   "cell_type": "markdown",
   "metadata": {},
   "source": [
    "## S3"
   ]
  },
  {
   "cell_type": "code",
   "execution_count": null,
   "metadata": {},
   "outputs": [],
   "source": [
    "import boto3\n",
    "\n",
    "s3 = boto3.client('s3')\n",
    "response = s3.list_buckets()\n",
    "\n",
    "# Output the bucket names\n",
    "print('Existing buckets:')\n",
    "for bucket in response['Buckets']:\n",
    "    print(f'  {bucket[\"Name\"]}')"
   ]
  },
  {
   "cell_type": "code",
   "execution_count": null,
   "metadata": {},
   "outputs": [],
   "source": [
    "s3.download_file('isfl-surrender-bot','surrender.csv','testsurrender.csv')"
   ]
  },
  {
   "cell_type": "code",
   "execution_count": 95,
   "metadata": {},
   "outputs": [],
   "source": [
    "curSW = pd.read_csv('curSW.csv').iloc[0]"
   ]
  },
  {
   "cell_type": "code",
   "execution_count": 96,
   "metadata": {},
   "outputs": [],
   "source": [
    "testDF = pd.read_csv('testsurrender.csv')"
   ]
  },
  {
   "cell_type": "code",
   "execution_count": 97,
   "metadata": {},
   "outputs": [
    {
     "name": "stdout",
     "output_type": "stream",
     "text": [
      "No update.\n"
     ]
    }
   ],
   "source": [
    "if (curSW.S == curS) and (curSW.W == curW):\n",
    "    print('No update.')\n",
    "else:\n",
    "    print('update')"
   ]
  },
  {
   "cell_type": "code",
   "execution_count": null,
   "metadata": {},
   "outputs": [],
   "source": [
    "curS = max(testDF.S)\n",
    "curW = max(testDF[testDF.S == curS].W)\n",
    "print(curS,curW)"
   ]
  },
  {
   "cell_type": "code",
   "execution_count": null,
   "metadata": {},
   "outputs": [],
   "source": [
    "pd.DataFrame([curS,curW])"
   ]
  },
  {
   "cell_type": "code",
   "execution_count": 83,
   "metadata": {},
   "outputs": [
    {
     "name": "stdout",
     "output_type": "stream",
     "text": [
      "<class 'pandas.core.frame.DataFrame'>\n",
      "Int64Index: 5 entries, 2083 to 169\n",
      "Data columns (total 24 columns):\n",
      " #   Column          Non-Null Count  Dtype  \n",
      "---  ------          --------------  -----  \n",
      " 0   Unnamed: 0      5 non-null      int64  \n",
      " 1   S               5 non-null      int64  \n",
      " 2   W               5 non-null      int64  \n",
      " 3   gameID          5 non-null      int64  \n",
      " 4   Q               5 non-null      int64  \n",
      " 5   time            5 non-null      object \n",
      " 6   awayTeam        5 non-null      object \n",
      " 7   awayScore       5 non-null      int64  \n",
      " 8   homeScore       5 non-null      int64  \n",
      " 9   homeTeam        5 non-null      object \n",
      " 10  teamPoss        5 non-null      object \n",
      " 11  recTeam         5 non-null      object \n",
      " 12  down            5 non-null      float64\n",
      " 13  distance        5 non-null      float64\n",
      " 14  dist2goal       5 non-null      float64\n",
      " 15  puntDist        5 non-null      float64\n",
      " 16  puntEndLoc      5 non-null      float64\n",
      " 17  surrenderIndex  5 non-null      float64\n",
      " 18  surrenderRank   5 non-null      int64  \n",
      " 19  percentiles     5 non-null      float64\n",
      " 20  NFLpercentiles  5 non-null      float64\n",
      " 21  play            5 non-null      object \n",
      " 22  situation       5 non-null      object \n",
      " 23  result          5 non-null      object \n",
      "dtypes: float64(8), int64(8), object(8)\n",
      "memory usage: 1000.0+ bytes\n"
     ]
    }
   ],
   "source": [
    "thisWeek = testDF[(testDF.S == curS) & (testDF.W == curW) & (testDF.percentiles >= 90)].sort_values(\"percentiles\")\n",
    "thisWeek.info()"
   ]
  },
  {
   "cell_type": "code",
   "execution_count": 84,
   "metadata": {},
   "outputs": [
    {
     "data": {
      "text/html": [
       "<div>\n",
       "<style scoped>\n",
       "    .dataframe tbody tr th:only-of-type {\n",
       "        vertical-align: middle;\n",
       "    }\n",
       "\n",
       "    .dataframe tbody tr th {\n",
       "        vertical-align: top;\n",
       "    }\n",
       "\n",
       "    .dataframe thead th {\n",
       "        text-align: right;\n",
       "    }\n",
       "</style>\n",
       "<table border=\"1\" class=\"dataframe\">\n",
       "  <thead>\n",
       "    <tr style=\"text-align: right;\">\n",
       "      <th></th>\n",
       "      <th>Unnamed: 0</th>\n",
       "      <th>S</th>\n",
       "      <th>W</th>\n",
       "      <th>gameID</th>\n",
       "      <th>Q</th>\n",
       "      <th>time</th>\n",
       "      <th>awayTeam</th>\n",
       "      <th>awayScore</th>\n",
       "      <th>homeScore</th>\n",
       "      <th>homeTeam</th>\n",
       "      <th>...</th>\n",
       "      <th>dist2goal</th>\n",
       "      <th>puntDist</th>\n",
       "      <th>puntEndLoc</th>\n",
       "      <th>surrenderIndex</th>\n",
       "      <th>surrenderRank</th>\n",
       "      <th>percentiles</th>\n",
       "      <th>NFLpercentiles</th>\n",
       "      <th>play</th>\n",
       "      <th>situation</th>\n",
       "      <th>result</th>\n",
       "    </tr>\n",
       "  </thead>\n",
       "  <tbody>\n",
       "    <tr>\n",
       "      <th>2083</th>\n",
       "      <td>281985</td>\n",
       "      <td>25</td>\n",
       "      <td>7</td>\n",
       "      <td>6414</td>\n",
       "      <td>4</td>\n",
       "      <td>8:40</td>\n",
       "      <td>NY</td>\n",
       "      <td>16</td>\n",
       "      <td>24</td>\n",
       "      <td>NO</td>\n",
       "      <td>...</td>\n",
       "      <td>61.0</td>\n",
       "      <td>41.0</td>\n",
       "      <td>20.0</td>\n",
       "      <td>12.388608</td>\n",
       "      <td>2084</td>\n",
       "      <td>90.018210</td>\n",
       "      <td>94.515940</td>\n",
       "      <td>Punt by Smalls, D. of 61 yards.\\n Touchback.</td>\n",
       "      <td>Q4 - 8:40 - 4th and 1\\nNY 16 - NO 24\\n</td>\n",
       "      <td>Touchback</td>\n",
       "    </tr>\n",
       "    <tr>\n",
       "      <th>1199</th>\n",
       "      <td>282050</td>\n",
       "      <td>25</td>\n",
       "      <td>7</td>\n",
       "      <td>6415</td>\n",
       "      <td>1</td>\n",
       "      <td>0:17</td>\n",
       "      <td>BAL</td>\n",
       "      <td>14</td>\n",
       "      <td>0</td>\n",
       "      <td>SAR</td>\n",
       "      <td>...</td>\n",
       "      <td>35.0</td>\n",
       "      <td>15.0</td>\n",
       "      <td>20.0</td>\n",
       "      <td>23.977108</td>\n",
       "      <td>1200</td>\n",
       "      <td>94.263945</td>\n",
       "      <td>97.824656</td>\n",
       "      <td>Punt by Small, J. of 35 yards.\\n Touchback.</td>\n",
       "      <td>Q1 - 0:17 - 4th and 12\\nSAR 0 - BAL 14\\n</td>\n",
       "      <td>Touchback</td>\n",
       "    </tr>\n",
       "    <tr>\n",
       "      <th>357</th>\n",
       "      <td>281355</td>\n",
       "      <td>25</td>\n",
       "      <td>7</td>\n",
       "      <td>6411</td>\n",
       "      <td>4</td>\n",
       "      <td>6:30</td>\n",
       "      <td>SJS</td>\n",
       "      <td>24</td>\n",
       "      <td>16</td>\n",
       "      <td>COL</td>\n",
       "      <td>...</td>\n",
       "      <td>45.0</td>\n",
       "      <td>25.0</td>\n",
       "      <td>20.0</td>\n",
       "      <td>78.547908</td>\n",
       "      <td>358</td>\n",
       "      <td>98.289247</td>\n",
       "      <td>99.795262</td>\n",
       "      <td>Punt by Banana, S. of 45 yards.\\n Touchback.</td>\n",
       "      <td>Q4 - 6:30 - 4th and 2\\nCOL 16 - SJS 24\\n</td>\n",
       "      <td>Touchback</td>\n",
       "    </tr>\n",
       "    <tr>\n",
       "      <th>331</th>\n",
       "      <td>281996</td>\n",
       "      <td>25</td>\n",
       "      <td>7</td>\n",
       "      <td>6414</td>\n",
       "      <td>4</td>\n",
       "      <td>4:45</td>\n",
       "      <td>NY</td>\n",
       "      <td>16</td>\n",
       "      <td>24</td>\n",
       "      <td>NO</td>\n",
       "      <td>...</td>\n",
       "      <td>38.0</td>\n",
       "      <td>18.0</td>\n",
       "      <td>20.0</td>\n",
       "      <td>82.833245</td>\n",
       "      <td>332</td>\n",
       "      <td>98.413839</td>\n",
       "      <td>99.806230</td>\n",
       "      <td>Punt by Smalls, D. of 38 yards.\\n Touchback.</td>\n",
       "      <td>Q4 - 4:45 - 4th and 14\\nNY 16 - NO 24\\n</td>\n",
       "      <td>Touchback</td>\n",
       "    </tr>\n",
       "    <tr>\n",
       "      <th>169</th>\n",
       "      <td>282200</td>\n",
       "      <td>25</td>\n",
       "      <td>7</td>\n",
       "      <td>6416</td>\n",
       "      <td>1</td>\n",
       "      <td>12:18</td>\n",
       "      <td>CHI</td>\n",
       "      <td>0</td>\n",
       "      <td>0</td>\n",
       "      <td>PHI</td>\n",
       "      <td>...</td>\n",
       "      <td>31.0</td>\n",
       "      <td>11.0</td>\n",
       "      <td>20.0</td>\n",
       "      <td>132.583814</td>\n",
       "      <td>177</td>\n",
       "      <td>99.173376</td>\n",
       "      <td>99.912255</td>\n",
       "      <td>Punt by Fencik (R), J. of 31 yards.\\n Touchback.</td>\n",
       "      <td>Q1 - 12:18 - 4th and 3\\nPHI 0 - CHI 0\\n</td>\n",
       "      <td>Touchback</td>\n",
       "    </tr>\n",
       "  </tbody>\n",
       "</table>\n",
       "<p>5 rows × 24 columns</p>\n",
       "</div>"
      ],
      "text/plain": [
       "      Unnamed: 0   S  W  gameID  Q   time awayTeam  awayScore  homeScore  \\\n",
       "2083      281985  25  7    6414  4   8:40       NY         16         24   \n",
       "1199      282050  25  7    6415  1   0:17      BAL         14          0   \n",
       "357       281355  25  7    6411  4   6:30      SJS         24         16   \n",
       "331       281996  25  7    6414  4   4:45       NY         16         24   \n",
       "169       282200  25  7    6416  1  12:18      CHI          0          0   \n",
       "\n",
       "     homeTeam  ... dist2goal puntDist  puntEndLoc  surrenderIndex  \\\n",
       "2083       NO  ...      61.0     41.0        20.0       12.388608   \n",
       "1199      SAR  ...      35.0     15.0        20.0       23.977108   \n",
       "357       COL  ...      45.0     25.0        20.0       78.547908   \n",
       "331        NO  ...      38.0     18.0        20.0       82.833245   \n",
       "169       PHI  ...      31.0     11.0        20.0      132.583814   \n",
       "\n",
       "      surrenderRank  percentiles  NFLpercentiles  \\\n",
       "2083           2084    90.018210       94.515940   \n",
       "1199           1200    94.263945       97.824656   \n",
       "357             358    98.289247       99.795262   \n",
       "331             332    98.413839       99.806230   \n",
       "169             177    99.173376       99.912255   \n",
       "\n",
       "                                                  play  \\\n",
       "2083      Punt by Smalls, D. of 61 yards.\\n Touchback.   \n",
       "1199       Punt by Small, J. of 35 yards.\\n Touchback.   \n",
       "357       Punt by Banana, S. of 45 yards.\\n Touchback.   \n",
       "331       Punt by Smalls, D. of 38 yards.\\n Touchback.   \n",
       "169   Punt by Fencik (R), J. of 31 yards.\\n Touchback.   \n",
       "\n",
       "                                     situation     result  \n",
       "2083    Q4 - 8:40 - 4th and 1\\nNY 16 - NO 24\\n  Touchback  \n",
       "1199  Q1 - 0:17 - 4th and 12\\nSAR 0 - BAL 14\\n  Touchback  \n",
       "357   Q4 - 6:30 - 4th and 2\\nCOL 16 - SJS 24\\n  Touchback  \n",
       "331    Q4 - 4:45 - 4th and 14\\nNY 16 - NO 24\\n  Touchback  \n",
       "169    Q1 - 12:18 - 4th and 3\\nPHI 0 - CHI 0\\n  Touchback  \n",
       "\n",
       "[5 rows x 24 columns]"
      ]
     },
     "execution_count": 84,
     "metadata": {},
     "output_type": "execute_result"
    }
   ],
   "source": [
    "thisWeek"
   ]
  },
  {
   "cell_type": "code",
   "execution_count": 85,
   "metadata": {},
   "outputs": [],
   "source": [
    "def tweetMessage(row):\n",
    "    \n",
    "    # location of ball\n",
    "    if row.dist2goal < 50:\n",
    "        loc = \"%s %i\"%(row.recTeam,row.dist2goal)\n",
    "    elif row.dist2goal == 50:\n",
    "        loc = \"midfield\"\n",
    "    else:\n",
    "        loc = \"%s %i\"%(row.teamPoss,100-row.dist2goal)\n",
    "    \n",
    "    # who has what score\n",
    "    if row['awayTeam'] == row['teamPoss']:\n",
    "        puntScore = row['awayScore']\n",
    "        recScore = row['homeScore']\n",
    "    else:\n",
    "        puntScore = row['homeScore']\n",
    "        recScore = row['awayScore']\n",
    "    \n",
    "    # score string\n",
    "    if puntScore < recScore:\n",
    "        rel = \"losing\"\n",
    "    elif puntScore > recScore:\n",
    "        rel = \"winning\"\n",
    "    else:\n",
    "        rel = \"tied\"\n",
    "        \n",
    "    # percentile string\n",
    "    percentile = int(row.percentiles)\n",
    "    mod = percentile%10\n",
    "    if mod == 1:\n",
    "        perc = \"%ist\"%percentile\n",
    "    elif mod == 2:\n",
    "        perc = \"%ind\"%percentile\n",
    "    elif mod == 3:\n",
    "        perc = \"%ird\"%percentile\n",
    "    else:\n",
    "        perc = \"%ith\"%percentile\n",
    "    \n",
    "    # down and distance\n",
    "    if row.down == 1:\n",
    "        dW = \"%ist\"%row.down\n",
    "    elif row.down == 2:\n",
    "        dW = \"%ind\"%row.down\n",
    "    elif row.down == 3:\n",
    "        dW = \"%ird\"%row.down\n",
    "    else:\n",
    "        dW = \"%ith\"%row.down\n",
    "    \n",
    "    # quarter\n",
    "    if row.Q == 1:\n",
    "        Q = \"%ist\"%row.Q\n",
    "    elif row.Q == 2:\n",
    "        Q = \"%ind\"%row.Q\n",
    "    elif row.Q == 3:\n",
    "        Q = \"%ird\"%row.Q\n",
    "    else:\n",
    "        Q = \"%ith\"%row.Q\n",
    "    \n",
    "    string = \"In S%i W%i, %s decided to punt to %s from the %s on %s and %i with %s remaining in the %s quarter while %s %i to %i.\\n\\nWith a Surrender Index of %.2f, this punt ranks at the %s percentile of cowardly punts in ISFL History. Overall, it is ranked #%i all time.\"%(row.S,row.W,row.teamPoss,row.recTeam,loc,dW,row.distance,row.time,Q,rel,puntScore,recScore,row.surrenderIndex,perc,row.surrenderRank)\n",
    "    return string\n"
   ]
  },
  {
   "cell_type": "code",
   "execution_count": 86,
   "metadata": {},
   "outputs": [],
   "source": [
    "thisWeek['tweet'] = thisWeek.apply(lambda x : tweetMessage(x),axis=1)"
   ]
  },
  {
   "cell_type": "code",
   "execution_count": 87,
   "metadata": {},
   "outputs": [
    {
     "name": "stdout",
     "output_type": "stream",
     "text": [
      "In S25 W7, NY decided to punt to NO from the NY 39 on 4th and 1 with 8:40 remaining in the 4th quarter while losing 16 to 24.\n",
      "\n",
      "With a Surrender Index of 12.39, this punt ranks at the 90th percentile of cowardly punts in ISFL History. Overall, it is ranked #2084 all time.\n",
      "\n",
      "(271 char)\n",
      "--\n",
      "In S25 W7, SAR decided to punt to BAL from the BAL 35 on 4th and 12 with 0:17 remaining in the 1st quarter while losing 0 to 14.\n",
      "\n",
      "With a Surrender Index of 23.98, this punt ranks at the 94th percentile of cowardly punts in ISFL History. Overall, it is ranked #1200 all time.\n",
      "\n",
      "(274 char)\n",
      "--\n",
      "In S25 W7, COL decided to punt to SJS from the SJS 45 on 4th and 2 with 6:30 remaining in the 4th quarter while losing 16 to 24.\n",
      "\n",
      "With a Surrender Index of 78.55, this punt ranks at the 98th percentile of cowardly punts in ISFL History. Overall, it is ranked #358 all time.\n",
      "\n",
      "(273 char)\n",
      "--\n",
      "In S25 W7, NY decided to punt to NO from the NO 38 on 4th and 14 with 4:45 remaining in the 4th quarter while losing 16 to 24.\n",
      "\n",
      "With a Surrender Index of 82.83, this punt ranks at the 98th percentile of cowardly punts in ISFL History. Overall, it is ranked #332 all time.\n",
      "\n",
      "(271 char)\n",
      "--\n",
      "In S25 W7, PHI decided to punt to CHI from the CHI 31 on 4th and 3 with 12:18 remaining in the 1st quarter while tied 0 to 0.\n",
      "\n",
      "With a Surrender Index of 132.58, this punt ranks at the 99th percentile of cowardly punts in ISFL History. Overall, it is ranked #177 all time.\n",
      "\n",
      "(271 char)\n",
      "--\n"
     ]
    }
   ],
   "source": [
    "for i in range(len(thisWeek)):\n",
    "    print(thisWeek.tweet.iloc[i])\n",
    "    print('\\n(%i char)'%len(thisWeek.tweet.iloc[i]))\n",
    "    print('--')"
   ]
  },
  {
   "cell_type": "code",
   "execution_count": null,
   "metadata": {},
   "outputs": [],
   "source": []
  }
 ],
 "metadata": {
  "kernelspec": {
   "display_name": "Python 3",
   "language": "python",
   "name": "python3"
  },
  "language_info": {
   "codemirror_mode": {
    "name": "ipython",
    "version": 3
   },
   "file_extension": ".py",
   "mimetype": "text/x-python",
   "name": "python",
   "nbconvert_exporter": "python",
   "pygments_lexer": "ipython3",
   "version": "3.7.7"
  }
 },
 "nbformat": 4,
 "nbformat_minor": 4
}
