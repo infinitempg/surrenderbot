{
 "cells": [
  {
   "cell_type": "markdown",
   "metadata": {},
   "source": [
    "## Getting PBP"
   ]
  },
  {
   "cell_type": "code",
   "execution_count": 12,
   "metadata": {},
   "outputs": [],
   "source": [
    "import pandas as pd\n",
    "import numpy as np\n",
    "import os\n",
    "from scipy.stats import percentileofscore as perc\n",
    "from simFootballPBP import *\n",
    "\n",
    "'''\n",
    "Functions\n",
    "'''\n",
    "\n",
    "def scoreDiff(row):\n",
    "    if row['recTeam'] == row['awayTeam']:\n",
    "        return row['homeScore'] - row['awayScore']\n",
    "    else:\n",
    "        return row['awayScore'] - row['homeScore']\n",
    "\n",
    "def secSinceHalf(row):\n",
    "    return 1800 - int(row['totTime'])\n",
    "\n",
    "def fieldPosScore(row):\n",
    "    if row['dist2goal'] >= 60:\n",
    "        return 1.0\n",
    "    elif row['dist2goal'] >= 50:\n",
    "        return 1.1 ** (40 - row['dist2goal'])\n",
    "    else:\n",
    "        return 1.1**10 * 1.2**(50 - row['dist2goal'])\n",
    "\n",
    "def distScore(row):\n",
    "    if int(row['distance']) >= 10:\n",
    "        return 0.2\n",
    "    elif 7 <= row['distance'] <= 9:\n",
    "        return 0.4\n",
    "    elif 4 <= row['distance'] <= 6:\n",
    "        return 0.6\n",
    "    elif 2 <= row['distance'] <= 3:\n",
    "        return 0.8\n",
    "    else:\n",
    "        return 1.0\n",
    "\n",
    "def scoreDiffMult(pointdiff):\n",
    "    if pointdiff > 0:\n",
    "        return 1\n",
    "    elif pointdiff == 0:\n",
    "        return 2\n",
    "    elif pointdiff < -8:\n",
    "        return 3\n",
    "    else:\n",
    "        return 4\n",
    "\n",
    "def timeMult(row):\n",
    "    sec = secSinceHalf(row)\n",
    "    PD = scoreDiff(row)\n",
    "    \n",
    "    if PD <= 0 and sec >= 0:\n",
    "        return ((sec * 0.001)**3) + 1.\n",
    "    else:\n",
    "        return 1.\n",
    "\n",
    "def surrenderIndex(row):\n",
    "    pd = scoreDiff(row)\n",
    "    return fieldPosScore(row) * distScore(row) * scoreDiffMult(pd) * timeMult(row)\n",
    "\n",
    "def receiving(row):\n",
    "    if row['teamPoss'] == row['homeTeam']:\n",
    "        return row['awayTeam']\n",
    "    else:\n",
    "        return row['homeTeam']\n",
    "    \n",
    "def touchback(row):\n",
    "    if 'Touchback' in row['play']:\n",
    "        return \"Touchback\"\n",
    "    elif 'No return' in row['play']:\n",
    "        return \"No return\"\n",
    "    else:\n",
    "        return \"Returned\"\n",
    "\n",
    "def puntDist(row):\n",
    "    if 'BLOCKED' in row.play:\n",
    "        return 0\n",
    "    elif 'Touchback' in row.play:\n",
    "        return row.dist2goal - 20\n",
    "    else:\n",
    "        return int(row.play.split('of ')[-1].split(' yards')[0])\n",
    "    \n",
    "def stringify(row):\n",
    "    num = ['st','nd','rd','th']\n",
    "    if row['awayTeam'] == row['teamPoss']:\n",
    "        puntScore = row['awayScore']\n",
    "        recScore = row['homeScore']\n",
    "    else:\n",
    "        puntScore = row['homeScore']\n",
    "        recScore = row['awayScore']\n",
    "    return \"Q%s - %s - %i%s and %i\\n%s %s - %s %s\\n\"%(row['Q'],row['time'],row['down'],num[int(row['down'])-1],row['distance'],row['teamPoss'],puntScore,row['recTeam'],recScore)\n"
   ]
  },
  {
   "cell_type": "code",
   "execution_count": 13,
   "metadata": {},
   "outputs": [
    {
     "name": "stdout",
     "output_type": "stream",
     "text": [
      "Season: 25\n",
      "Games: 14\n"
     ]
    }
   ],
   "source": [
    "S = 25\n",
    "\n",
    "sData = []\n",
    "idList, idDict = getSeasonIDs(S)\n",
    "\n",
    "print('Season:',S)\n",
    "print('Games:',len(idList))"
   ]
  },
  {
   "cell_type": "code",
   "execution_count": 3,
   "metadata": {},
   "outputs": [
    {
     "name": "stdout",
     "output_type": "stream",
     "text": [
      "Gathering PBP...\n",
      "PBP for S25 saved!\n"
     ]
    }
   ],
   "source": [
    "print('Gathering PBP...')\n",
    "for i in idList:\n",
    "    sData.append(getGameData(S,i,idDict))\n",
    "\n",
    "sDF = pd.concat(sData)\n",
    "sDF.to_csv('PBP/S%sPBP.csv'%S)\n",
    "\n",
    "print('PBP for S%s saved!'%S)"
   ]
  },
  {
   "cell_type": "code",
   "execution_count": 5,
   "metadata": {},
   "outputs": [
    {
     "name": "stdout",
     "output_type": "stream",
     "text": [
      "Combining all Seasons...\n",
      "Getting Punts...\n",
      "Done!\n"
     ]
    }
   ],
   "source": [
    "print('Combining all Seasons...')\n",
    "import os\n",
    "allDF = pd.concat([pd.read_csv('PBP/%s'%p) for p in next(os.walk('PBP'))[2] if '.csv' in p])\n",
    "allDF = allDF.reset_index().sort_values('S')\n",
    "# allDF.to_csv('allPBP.csv')\n",
    "\n",
    "print('Getting Punts...')\n",
    "puntDF = allDF[allDF['play'].str.contains('Punt ')]\n",
    "\n",
    "print('Done!')"
   ]
  },
  {
   "cell_type": "code",
   "execution_count": 6,
   "metadata": {},
   "outputs": [
    {
     "name": "stdout",
     "output_type": "stream",
     "text": [
      "Cleaning up PuntDF...\n"
     ]
    },
    {
     "name": "stderr",
     "output_type": "stream",
     "text": [
      "/home/mike/anaconda3/lib/python3.7/site-packages/ipykernel_launcher.py:3: SettingWithCopyWarning: \n",
      "A value is trying to be set on a copy of a slice from a DataFrame.\n",
      "Try using .loc[row_indexer,col_indexer] = value instead\n",
      "\n",
      "See the caveats in the documentation: https://pandas.pydata.org/pandas-docs/stable/user_guide/indexing.html#returning-a-view-versus-a-copy\n",
      "  This is separate from the ipykernel package so we can avoid doing imports until\n",
      "/home/mike/anaconda3/lib/python3.7/site-packages/ipykernel_launcher.py:4: SettingWithCopyWarning: \n",
      "A value is trying to be set on a copy of a slice from a DataFrame.\n",
      "Try using .loc[row_indexer,col_indexer] = value instead\n",
      "\n",
      "See the caveats in the documentation: https://pandas.pydata.org/pandas-docs/stable/user_guide/indexing.html#returning-a-view-versus-a-copy\n",
      "  after removing the cwd from sys.path.\n"
     ]
    },
    {
     "name": "stdout",
     "output_type": "stream",
     "text": [
      "Exporting Surrender DF...\n",
      "Done!\n"
     ]
    }
   ],
   "source": [
    "print('Cleaning up PuntDF...')\n",
    "NFL = np.load(\"2009-2018_surrender_indices.npy\")\n",
    "puntDF['recTeam'] = puntDF.apply(lambda row : receiving(row),axis=1)\n",
    "puntDF['surrenderIndex'] = puntDF.apply(lambda row : surrenderIndex(row),axis=1)\n",
    "puntDF = puntDF[['S','W','gameID','Q','time','awayTeam','awayScore','homeScore','homeTeam'\n",
    "                 ,'teamPoss','recTeam','down','distance','side','dist2goal','surrenderIndex','play']]\n",
    "puntDF = puntDF.sort_values('surrenderIndex',ascending=False)\n",
    "puntDF['NFLpercentiles'] = puntDF.apply(lambda row : perc(NFL,row['surrenderIndex']),axis=1)\n",
    "puntDF['percentiles'] = puntDF.apply(lambda row : perc(puntDF['surrenderIndex'],row['surrenderIndex']),axis=1)\n",
    "puntDF['result'] = puntDF.apply(lambda row : touchback(row),axis = 1)\n",
    "puntDF['scoreDiff'] = puntDF.apply(lambda row : scoreDiff(row),axis = 1)\n",
    "puntDF['puntDist'] = puntDF.apply(lambda row : puntDist(row),axis = 1)\n",
    "puntDF['puntEndLoc'] = puntDF['dist2goal'] - puntDF['puntDist']\n",
    "puntDF['surrenderRank'] = puntDF.surrenderIndex.rank(method='max',ascending=False).astype('int')\n",
    "puntDF['situation'] = puntDF.apply(lambda row : stringify(row), axis = 1)\n",
    "\n",
    "puntDF = puntDF[['S', 'W', 'gameID', 'Q', 'time', 'awayTeam', 'awayScore', 'homeScore',\n",
    "       'homeTeam', 'teamPoss', 'recTeam', 'down', 'distance', 'dist2goal', 'puntDist',\n",
    "       'puntEndLoc', 'surrenderIndex','surrenderRank', 'percentiles', 'NFLpercentiles', 'play',\n",
    "       'situation','result']]\n",
    "\n",
    "print('Exporting Surrender DF...')\n",
    "puntDF.to_csv('surrender.csv')\n",
    "\n",
    "print('Done!')"
   ]
  },
  {
   "cell_type": "markdown",
   "metadata": {},
   "source": [
    "## Bot Functions"
   ]
  },
  {
   "cell_type": "code",
   "execution_count": 14,
   "metadata": {},
   "outputs": [],
   "source": [
    "s25 = pd.read_csv('PBP/S25PBP.csv')"
   ]
  },
  {
   "cell_type": "code",
   "execution_count": 30,
   "metadata": {},
   "outputs": [
    {
     "data": {
      "text/plain": [
       "0                                      D, Alex kicks off.\n",
       "1                        The kick sails into the endzone.\n",
       "2                PickSix, H. takes it out of the endzone!\n",
       "3       Kickoff of 77 yards. Returned by PickSix, H. f...\n",
       "4         Jack, M. SACKED by Rapid Eagle - DT for -7 yds.\n",
       "                              ...                        \n",
       "2928    Rush by Z, D. for 2 yds. Tackle by Annastesia,...\n",
       "2929    Rush by Skyline, A. for 4 yds. Tackle by De Vi...\n",
       "2930    Rush by Z, D. for a short gain. Tackle by Harr...\n",
       "2931        Punt by Kokot (R), B. of 39 yards. Touchback.\n",
       "2932    Pass by Fujiwara (C), C., complete to Howlett ...\n",
       "Name: play, Length: 2933, dtype: object"
      ]
     },
     "execution_count": 30,
     "metadata": {},
     "output_type": "execute_result"
    }
   ],
   "source": [
    "s25['play'].str.replace('Dasistwirklichseinnachname, A.','D, Alex')"
   ]
  },
  {
   "cell_type": "code",
   "execution_count": 17,
   "metadata": {},
   "outputs": [],
   "source": [
    "test = s25[(s25.S == 25) & (s25.W == 1) & ((s25.homeTeam == 'COL') | (s25.awayTeam == 'COL'))]"
   ]
  },
  {
   "cell_type": "code",
   "execution_count": 26,
   "metadata": {},
   "outputs": [
    {
     "name": "stdout",
     "output_type": "stream",
     "text": [
      "Punt by Small, J. of 67 yards.\n",
      "No return.\n"
     ]
    }
   ],
   "source": [
    "string = test.play.iloc[0].split('yards. ')\n",
    "print(str(string[0] + 'yards.\\n' + string[1]))"
   ]
  },
  {
   "cell_type": "code",
   "execution_count": 29,
   "metadata": {},
   "outputs": [
    {
     "ename": "KeyError",
     "evalue": "\"['situation', 'percentile', 'surrenderIndex', 'surrenderRank'] not in index\"",
     "output_type": "error",
     "traceback": [
      "\u001b[0;31m---------------------------------------------------------------------------\u001b[0m",
      "\u001b[0;31mKeyError\u001b[0m                                  Traceback (most recent call last)",
      "\u001b[0;32m<ipython-input-29-45bdb9a54df3>\u001b[0m in \u001b[0;36m<module>\u001b[0;34m\u001b[0m\n\u001b[1;32m      1\u001b[0m \u001b[0;32mimport\u001b[0m \u001b[0mtabulate\u001b[0m\u001b[0;34m\u001b[0m\u001b[0;34m\u001b[0m\u001b[0m\n\u001b[0;32m----> 2\u001b[0;31m tabulate(test[['surrenderRank','situation', 'play','surrenderIndex','percentile']],\n\u001b[0m\u001b[1;32m      3\u001b[0m          headers=[\"Rank\",\"Game Situation\",\"Punt\",\"Index\",\"Perc.\"],tablefmt='psql',showindex=False)\n",
      "\u001b[0;32m~/anaconda3/lib/python3.7/site-packages/pandas/core/frame.py\u001b[0m in \u001b[0;36m__getitem__\u001b[0;34m(self, key)\u001b[0m\n\u001b[1;32m   2804\u001b[0m             \u001b[0;32mif\u001b[0m \u001b[0mis_iterator\u001b[0m\u001b[0;34m(\u001b[0m\u001b[0mkey\u001b[0m\u001b[0;34m)\u001b[0m\u001b[0;34m:\u001b[0m\u001b[0;34m\u001b[0m\u001b[0;34m\u001b[0m\u001b[0m\n\u001b[1;32m   2805\u001b[0m                 \u001b[0mkey\u001b[0m \u001b[0;34m=\u001b[0m \u001b[0mlist\u001b[0m\u001b[0;34m(\u001b[0m\u001b[0mkey\u001b[0m\u001b[0;34m)\u001b[0m\u001b[0;34m\u001b[0m\u001b[0;34m\u001b[0m\u001b[0m\n\u001b[0;32m-> 2806\u001b[0;31m             \u001b[0mindexer\u001b[0m \u001b[0;34m=\u001b[0m \u001b[0mself\u001b[0m\u001b[0;34m.\u001b[0m\u001b[0mloc\u001b[0m\u001b[0;34m.\u001b[0m\u001b[0m_get_listlike_indexer\u001b[0m\u001b[0;34m(\u001b[0m\u001b[0mkey\u001b[0m\u001b[0;34m,\u001b[0m \u001b[0maxis\u001b[0m\u001b[0;34m=\u001b[0m\u001b[0;36m1\u001b[0m\u001b[0;34m,\u001b[0m \u001b[0mraise_missing\u001b[0m\u001b[0;34m=\u001b[0m\u001b[0;32mTrue\u001b[0m\u001b[0;34m)\u001b[0m\u001b[0;34m[\u001b[0m\u001b[0;36m1\u001b[0m\u001b[0;34m]\u001b[0m\u001b[0;34m\u001b[0m\u001b[0;34m\u001b[0m\u001b[0m\n\u001b[0m\u001b[1;32m   2807\u001b[0m \u001b[0;34m\u001b[0m\u001b[0m\n\u001b[1;32m   2808\u001b[0m         \u001b[0;31m# take() does not accept boolean indexers\u001b[0m\u001b[0;34m\u001b[0m\u001b[0;34m\u001b[0m\u001b[0;34m\u001b[0m\u001b[0m\n",
      "\u001b[0;32m~/anaconda3/lib/python3.7/site-packages/pandas/core/indexing.py\u001b[0m in \u001b[0;36m_get_listlike_indexer\u001b[0;34m(self, key, axis, raise_missing)\u001b[0m\n\u001b[1;32m   1551\u001b[0m \u001b[0;34m\u001b[0m\u001b[0m\n\u001b[1;32m   1552\u001b[0m         self._validate_read_indexer(\n\u001b[0;32m-> 1553\u001b[0;31m             \u001b[0mkeyarr\u001b[0m\u001b[0;34m,\u001b[0m \u001b[0mindexer\u001b[0m\u001b[0;34m,\u001b[0m \u001b[0mo\u001b[0m\u001b[0;34m.\u001b[0m\u001b[0m_get_axis_number\u001b[0m\u001b[0;34m(\u001b[0m\u001b[0maxis\u001b[0m\u001b[0;34m)\u001b[0m\u001b[0;34m,\u001b[0m \u001b[0mraise_missing\u001b[0m\u001b[0;34m=\u001b[0m\u001b[0mraise_missing\u001b[0m\u001b[0;34m\u001b[0m\u001b[0;34m\u001b[0m\u001b[0m\n\u001b[0m\u001b[1;32m   1554\u001b[0m         )\n\u001b[1;32m   1555\u001b[0m         \u001b[0;32mreturn\u001b[0m \u001b[0mkeyarr\u001b[0m\u001b[0;34m,\u001b[0m \u001b[0mindexer\u001b[0m\u001b[0;34m\u001b[0m\u001b[0;34m\u001b[0m\u001b[0m\n",
      "\u001b[0;32m~/anaconda3/lib/python3.7/site-packages/pandas/core/indexing.py\u001b[0m in \u001b[0;36m_validate_read_indexer\u001b[0;34m(self, key, indexer, axis, raise_missing)\u001b[0m\n\u001b[1;32m   1644\u001b[0m             \u001b[0;32mif\u001b[0m \u001b[0;32mnot\u001b[0m \u001b[0;34m(\u001b[0m\u001b[0mself\u001b[0m\u001b[0;34m.\u001b[0m\u001b[0mname\u001b[0m \u001b[0;34m==\u001b[0m \u001b[0;34m\"loc\"\u001b[0m \u001b[0;32mand\u001b[0m \u001b[0;32mnot\u001b[0m \u001b[0mraise_missing\u001b[0m\u001b[0;34m)\u001b[0m\u001b[0;34m:\u001b[0m\u001b[0;34m\u001b[0m\u001b[0;34m\u001b[0m\u001b[0m\n\u001b[1;32m   1645\u001b[0m                 \u001b[0mnot_found\u001b[0m \u001b[0;34m=\u001b[0m \u001b[0mlist\u001b[0m\u001b[0;34m(\u001b[0m\u001b[0mset\u001b[0m\u001b[0;34m(\u001b[0m\u001b[0mkey\u001b[0m\u001b[0;34m)\u001b[0m \u001b[0;34m-\u001b[0m \u001b[0mset\u001b[0m\u001b[0;34m(\u001b[0m\u001b[0max\u001b[0m\u001b[0;34m)\u001b[0m\u001b[0;34m)\u001b[0m\u001b[0;34m\u001b[0m\u001b[0;34m\u001b[0m\u001b[0m\n\u001b[0;32m-> 1646\u001b[0;31m                 \u001b[0;32mraise\u001b[0m \u001b[0mKeyError\u001b[0m\u001b[0;34m(\u001b[0m\u001b[0;34mf\"{not_found} not in index\"\u001b[0m\u001b[0;34m)\u001b[0m\u001b[0;34m\u001b[0m\u001b[0;34m\u001b[0m\u001b[0m\n\u001b[0m\u001b[1;32m   1647\u001b[0m \u001b[0;34m\u001b[0m\u001b[0m\n\u001b[1;32m   1648\u001b[0m             \u001b[0;31m# we skip the warning on Categorical/Interval\u001b[0m\u001b[0;34m\u001b[0m\u001b[0;34m\u001b[0m\u001b[0;34m\u001b[0m\u001b[0m\n",
      "\u001b[0;31mKeyError\u001b[0m: \"['situation', 'percentile', 'surrenderIndex', 'surrenderRank'] not in index\""
     ]
    }
   ],
   "source": [
    "import tabulate\n",
    "tabulate(test[['surrenderRank','situation', 'play','surrenderIndex','percentile']],\n",
    "         headers=[\"Rank\",\"Game Situation\",\"Punt\",\"Index\",\"Perc.\"],tablefmt='psql',showindex=False)"
   ]
  },
  {
   "cell_type": "markdown",
   "metadata": {},
   "source": [
    "## S3"
   ]
  },
  {
   "cell_type": "code",
   "execution_count": 5,
   "metadata": {},
   "outputs": [
    {
     "name": "stdout",
     "output_type": "stream",
     "text": [
      "Existing buckets:\n",
      "  isfl-surrender-bot\n"
     ]
    }
   ],
   "source": [
    "import boto3\n",
    "\n",
    "s3 = boto3.client('s3')\n",
    "response = s3.list_buckets()\n",
    "\n",
    "# Output the bucket names\n",
    "print('Existing buckets:')\n",
    "for bucket in response['Buckets']:\n",
    "    print(f'  {bucket[\"Name\"]}')"
   ]
  },
  {
   "cell_type": "code",
   "execution_count": 8,
   "metadata": {},
   "outputs": [
    {
     "name": "stdout",
     "output_type": "stream",
     "text": [
      "2.95 s ± 336 ms per loop (mean ± std. dev. of 7 runs, 1 loop each)\n"
     ]
    }
   ],
   "source": [
    "%%timeit\n",
    "s3.download_file('isfl-surrender-bot','surrender.csv','testsurrender.csv')"
   ]
  },
  {
   "cell_type": "code",
   "execution_count": 7,
   "metadata": {},
   "outputs": [],
   "source": [
    "s3.upload_file('testsurrender.csv','isfl-surrender-bot','testsurrender.csv')"
   ]
  },
  {
   "cell_type": "code",
   "execution_count": null,
   "metadata": {},
   "outputs": [],
   "source": []
  }
 ],
 "metadata": {
  "kernelspec": {
   "display_name": "Python 3",
   "language": "python",
   "name": "python3"
  },
  "language_info": {
   "codemirror_mode": {
    "name": "ipython",
    "version": 3
   },
   "file_extension": ".py",
   "mimetype": "text/x-python",
   "name": "python",
   "nbconvert_exporter": "python",
   "pygments_lexer": "ipython3",
   "version": "3.7.7"
  }
 },
 "nbformat": 4,
 "nbformat_minor": 4
}
